{
 "cells": [
  {
   "cell_type": "code",
   "execution_count": 1,
   "id": "e539d9b7",
   "metadata": {},
   "outputs": [],
   "source": [
    "from dotenv import load_dotenv\n",
    "from langchain_groq import ChatGroq\n",
    "import os"
   ]
  },
  {
   "cell_type": "code",
   "execution_count": 2,
   "id": "96f2bfcb",
   "metadata": {},
   "outputs": [
    {
     "data": {
      "text/plain": [
       "True"
      ]
     },
     "execution_count": 2,
     "metadata": {},
     "output_type": "execute_result"
    }
   ],
   "source": [
    "load_dotenv()"
   ]
  },
  {
   "cell_type": "code",
   "execution_count": 3,
   "id": "46e24748",
   "metadata": {},
   "outputs": [],
   "source": [
    "llm = ChatGroq(model=\"deepseek-r1-distill-llama-70b\")"
   ]
  },
  {
   "cell_type": "code",
   "execution_count": 4,
   "id": "4ebe8eb3",
   "metadata": {},
   "outputs": [
    {
     "data": {
      "text/plain": [
       "AIMessage(content='<think>\\n\\n</think>\\n\\nHello! How can I assist you today? 😊', additional_kwargs={}, response_metadata={'token_usage': {'completion_tokens': 16, 'prompt_tokens': 5, 'total_tokens': 21, 'completion_time': 0.072192558, 'prompt_time': 0.000109458, 'queue_time': 0.057632757, 'total_time': 0.072302016}, 'model_name': 'deepseek-r1-distill-llama-70b', 'system_fingerprint': 'fp_1bbe7845ec', 'service_tier': 'on_demand', 'finish_reason': 'stop', 'logprobs': None}, id='run--c80e4261-e049-4d5f-820b-6650f19dc18c-0', usage_metadata={'input_tokens': 5, 'output_tokens': 16, 'total_tokens': 21})"
      ]
     },
     "execution_count": 4,
     "metadata": {},
     "output_type": "execute_result"
    }
   ],
   "source": [
    "llm.invoke(\"Hii\")"
   ]
  },
  {
   "cell_type": "markdown",
   "id": "a2d3547f",
   "metadata": {},
   "source": [
    "### Ways of creating tools"
   ]
  },
  {
   "cell_type": "markdown",
   "id": "050d4eb7",
   "metadata": {},
   "source": [
    "#### 1."
   ]
  },
  {
   "cell_type": "code",
   "execution_count": 5,
   "id": "37b4ccbf",
   "metadata": {},
   "outputs": [],
   "source": [
    "from langchain.tools import tool\n",
    "\n",
    "@tool\n",
    "def add_numbers(a: int, b: int) -> int:\n",
    "    \"\"\"Adds two numbers together.\"\"\"\n",
    "    return a + b"
   ]
  },
  {
   "cell_type": "code",
   "execution_count": 6,
   "id": "beab2bc8",
   "metadata": {},
   "outputs": [
    {
     "data": {
      "text/plain": [
       "StructuredTool(name='add_numbers', description='Adds two numbers together.', args_schema=<class 'langchain_core.utils.pydantic.add_numbers'>, func=<function add_numbers at 0x00000275B6BAB4C0>)"
      ]
     },
     "execution_count": 6,
     "metadata": {},
     "output_type": "execute_result"
    }
   ],
   "source": [
    "add_numbers"
   ]
  },
  {
   "cell_type": "markdown",
   "id": "83d866ec",
   "metadata": {},
   "source": [
    "#### 2."
   ]
  },
  {
   "cell_type": "code",
   "execution_count": 15,
   "id": "fcd529ee",
   "metadata": {},
   "outputs": [],
   "source": [
    "from langchain_core.tools import StructuredTool\n",
    "from pydantic import BaseModel, Field\n",
    "from typing import ClassVar, Type"
   ]
  },
  {
   "cell_type": "code",
   "execution_count": 12,
   "id": "bde9a18e",
   "metadata": {},
   "outputs": [],
   "source": [
    "class WeatherInput(BaseModel):\n",
    "    location: str"
   ]
  },
  {
   "cell_type": "code",
   "execution_count": 10,
   "id": "646646af",
   "metadata": {},
   "outputs": [],
   "source": [
    "def get_weather(location: str) -> str:\n",
    "    \"\"\"Get the current weather for a given location.\n",
    "\n",
    "    Args:\n",
    "        location (str): The name of the location to get the weather for.\n",
    "    Returns:\n",
    "        str: A string describing the current weather in the specified location.\n",
    "    \"\"\"\n",
    "    \n",
    "    return f\"The current weather in {location} is sunny.\""
   ]
  },
  {
   "cell_type": "code",
   "execution_count": null,
   "id": "fcda4c26",
   "metadata": {},
   "outputs": [],
   "source": [
    "weather_tool = StructuredTool.from_function(\n",
    "    func=get_weather,\n",
    "    name=\"get_weather\",\n",
    "    description=\"Get the current weather for a given location.\",\n",
    "    args_schema=WeatherInput,\n",
    ")"
   ]
  },
  {
   "cell_type": "markdown",
   "id": "8c7f9ccc",
   "metadata": {},
   "source": [
    "#### 3."
   ]
  },
  {
   "cell_type": "code",
   "execution_count": null,
   "id": "473ea3b9",
   "metadata": {},
   "outputs": [],
   "source": [
    "class WeatherInput(BaseModel):\n",
    "    city: str = Field(..., description=\"City Name\")\n",
    "    units: str = Field(\"metric\",description=\"Metric or Imperial\")\n",
    "\n",
    "class GetWeatherTool(StructuredTool):\n",
    "    name: ClassVar[str] = \"get_weather\"\n",
    "    description: ClassVar[str] = (\n",
    "        \"Fetches Weather data for a city\"\n",
    "    )\n",
    "    args_schema: ClassVar[Type[BaseModel]] = WeatherInput\n",
    "\n",
    "    def _run(self,city:str,units:str=\"metric\") -> str:\n",
    "        return get_weather(city, units)\n"
   ]
  }
 ],
 "metadata": {
  "kernelspec": {
   "display_name": "AI_Trip_Planner",
   "language": "python",
   "name": "python3"
  },
  "language_info": {
   "codemirror_mode": {
    "name": "ipython",
    "version": 3
   },
   "file_extension": ".py",
   "mimetype": "text/x-python",
   "name": "python",
   "nbconvert_exporter": "python",
   "pygments_lexer": "ipython3",
   "version": "3.12.5"
  }
 },
 "nbformat": 4,
 "nbformat_minor": 5
}
